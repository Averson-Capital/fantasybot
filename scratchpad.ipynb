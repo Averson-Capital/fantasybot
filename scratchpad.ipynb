{
 "cells": [
  {
   "cell_type": "code",
   "execution_count": 1,
   "metadata": {},
   "outputs": [
    {
     "name": "stdout",
     "output_type": "stream",
     "text": [
      "2022-11-17\n",
      "2022-11-18\n",
      "2022-11-19\n",
      "2022-11-20\n",
      "'leaderBoard'\n",
      "{'errorStatus': {'code': 'SCO131', 'developerMessage': 'Request timed out'}, 'responseStatus': {'ErrorCode': 'SCO131', 'Message': 'Request timed out'}}\n",
      "'leaderBoard'\n",
      "{'errorStatus': {'code': 'SCO131', 'developerMessage': 'Request timed out'}, 'responseStatus': {'ErrorCode': 'SCO131', 'Message': 'Request timed out'}}\n",
      "'leaderBoard'\n",
      "{'errorStatus': {'code': 'SCO131', 'developerMessage': 'Request timed out'}, 'responseStatus': {'ErrorCode': 'SCO131', 'Message': 'Request timed out'}}\n",
      "2022-11-21\n",
      "2022-11-22\n",
      "2022-11-23\n",
      "2022-11-24\n",
      "2022-11-25\n",
      "2022-11-26\n",
      "2022-11-27\n",
      "2022-11-28\n",
      "2022-11-29\n",
      "2022-11-30\n",
      "2022-12-01\n"
     ]
    }
   ],
   "source": [
    "from draftkings import *\n",
    "\n",
    "# https://www.draftkings.com/contest/gamecenter/133262465\n",
    "\n",
    "data = get_draftables_by_contest_id(26501411)\n",
    "data.json()\n",
    "\n",
    "data = get_past_leaderboards(\"2022-11-17\", \"2022-12-01\")"
   ]
  },
  {
   "cell_type": "code",
   "execution_count": null,
   "metadata": {},
   "outputs": [],
   "source": [
    "upload_parquet_s3(\"data/parquet/leaderboards/2022-11-07/*\")"
   ]
  }
 ],
 "metadata": {
  "instance_type": "ml.t3.medium",
  "kernelspec": {
   "display_name": "Python 3 (Data Science)",
   "language": "python",
   "name": "python3__SAGEMAKER_INTERNAL__arn:aws:sagemaker:us-east-1:081325390199:image/datascience-1.0"
  },
  "language_info": {
   "codemirror_mode": {
    "name": "ipython",
    "version": 3
   },
   "file_extension": ".py",
   "mimetype": "text/x-python",
   "name": "python",
   "nbconvert_exporter": "python",
   "pygments_lexer": "ipython3",
   "version": "3.7.10"
  },
  "vscode": {
   "interpreter": {
    "hash": "e7370f93d1d0cde622a1f8e1c04877d8463912d04d973331ad4851f04de6915a"
   }
  }
 },
 "nbformat": 4,
 "nbformat_minor": 4
}
