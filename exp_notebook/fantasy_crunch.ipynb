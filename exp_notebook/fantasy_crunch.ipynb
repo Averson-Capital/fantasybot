{
 "cells": [
  {
   "cell_type": "code",
   "execution_count": 1,
   "metadata": {},
   "outputs": [],
   "source": [
    "from data.get_fantasy_cruncher import get_fantasy_contest_year\n",
    "\n",
    "def get_all():\n",
    "    years = list(range(2016,2023))\n",
    "    for year in reversed(years):\n",
    "        get_fantasy_contest_year(year)"
   ]
  },
  {
   "cell_type": "code",
   "execution_count": 2,
   "metadata": {},
   "outputs": [],
   "source": [
    "import os\n",
    "import json\n",
    "\n",
    "def load_data(year):\n",
    "    dir_path = f\"data/fantasycruncher/{year}\"\n",
    "    path = \"data/fantasycruncher/{}/{}\"\n",
    "    files = os.listdir(dir_path)\n",
    "    empty = []\n",
    "    good = []\n",
    "    for file_name in files:\n",
    "        file_path = path.format(year, file_name)\n",
    "        with open(file_path, \"r\") as file_obj:\n",
    "            try:\n",
    "                data = json.load(file_obj)\n",
    "                if len(data) < 1:\n",
    "                    pass\n",
    "                else:\n",
    "                    good.append(data)\n",
    "            except Exception:\n",
    "                empty.append(file_name)\n",
    "    return empty, good\n",
    "        \n",
    "\n",
    "# empty, good = load_data()"
   ]
  },
  {
   "cell_type": "code",
   "execution_count": null,
   "metadata": {},
   "outputs": [],
   "source": [
    "from  data.get_fantasy_cruncher import get_fantasy_cruncher_by_date, load_existing_data\n",
    "\n",
    "def reload_year(year):\n",
    "    \"\"\"fill back files that are empty because of network error\"\"\"\n",
    "    empty, good = load_existing_data(year)\n",
    "    for item in empty:\n",
    "        item = item.split(\"contest-data-\")[1]\n",
    "        item = item.split(\".json\")[0]\n",
    "        print(item)\n",
    "        get_fantasy_cruncher_by_date(item)\n",
    "\n",
    "# for year in range(2019, 2023):\n",
    "#     reload_year(year)\n"
   ]
  },
  {
   "cell_type": "code",
   "execution_count": 19,
   "metadata": {},
   "outputs": [],
   "source": [
    "import pandas as pd\n",
    "def get_site_id():\n",
    "    path = \"data/consolidated_data/fantasy_cruncher_{}.csv\"\n",
    "    df_arr = []\n",
    "    for year in range(2016, 2017):\n",
    "        file_path = path.format(year)\n",
    "        df = None\n",
    "        with open(file_path, \"r\") as f:\n",
    "            df = pd.read_csv(f)\n",
    "            df = df[[\"site\", \"site_id\"]]\n",
    "            df = df[df[\"site\"].isin([\"draftkings\", \"draftkings_pickem\", \"draftkings_showdown\"])]\n",
    "            # df = df[\"draftkings\" in df[\"Site\"]]\n",
    "            df_arr.append(df)\n",
    "    return df_arr\n",
    "        \n",
    "df = get_site_id()"
   ]
  },
  {
   "cell_type": "code",
   "execution_count": 20,
   "metadata": {},
   "outputs": [],
   "source": [
    "df = pd.concat(df)"
   ]
  },
  {
   "cell_type": "code",
   "execution_count": 21,
   "metadata": {},
   "outputs": [],
   "source": [
    "df.to_csv(\"draft_kings_site_id.csv\")"
   ]
  }
 ],
 "metadata": {
  "kernelspec": {
   "display_name": "Python 3.9.9 64-bit",
   "language": "python",
   "name": "python3"
  },
  "language_info": {
   "codemirror_mode": {
    "name": "ipython",
    "version": 3
   },
   "file_extension": ".py",
   "mimetype": "text/x-python",
   "name": "python",
   "nbconvert_exporter": "python",
   "pygments_lexer": "ipython3",
   "version": "3.9.9"
  },
  "orig_nbformat": 4,
  "vscode": {
   "interpreter": {
    "hash": "e7370f93d1d0cde622a1f8e1c04877d8463912d04d973331ad4851f04de6915a"
   }
  }
 },
 "nbformat": 4,
 "nbformat_minor": 2
}
