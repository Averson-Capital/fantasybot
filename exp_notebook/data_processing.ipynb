{
 "cells": [
  {
   "cell_type": "code",
   "execution_count": 74,
   "id": "d199d70b-6614-4656-9499-d1981bf01f08",
   "metadata": {},
   "outputs": [],
   "source": [
    "import pandas as pd\n",
    "import numpy as np\n",
    "import pandas as pd \n",
    "import numpy as np\n",
    "from tqdm.notebook import *\n",
    "from code.data_processing import *"
   ]
  },
  {
   "cell_type": "code",
   "execution_count": 76,
   "id": "5ae04e41-53c3-473f-9249-59e12526cf60",
   "metadata": {},
   "outputs": [],
   "source": [
    "\n",
    "\n",
    "def process_gamelogs(df, fname = None, lname = None): \n",
    "    df = df.rename({'Unnamed: 7': 'gmresult'}, axis = 1)\n",
    "    df = df.drop(['Unnamed: 0', 'Unnamed: 5', 'Rk', 'G'],axis=1)\n",
    "    df['Age'] = df['Age'].apply(lambda x: x.split('-')[0])\n",
    "        \n",
    "    df['GmResult'] = df['gmresult'].str[0]\n",
    "    df['PtsDiff'] = df['gmresult'].str[3:5]\n",
    "    df.drop('gmresult', axis = 1, inplace = True)\n",
    "    \n",
    "    \n",
    "    \n",
    "    df.Date = pd.to_datetime(df.Date).dt.strftime('%Y%m%d')    \n",
    "    \n",
    "    df['MP'] = df['MP'].apply(lambda x: [int(x) for x in x.split(':') if len(x) <= 5])\n",
    "    df['MP'] = df['MP'].apply(lambda x: (x[0]*60 + x[1])/60 if len(x) != 0 else 0)\n",
    "\n",
    "    #df['diff'] = df.gmresult.apply(lambda x: x[1])\n",
    "    \n",
    "    df[['+/-', 'PtsDiff']] = df[['+/-', 'PtsDiff']].applymap(lambda x: x.replace('+',''))\n",
    "    \n",
    "    if fname != None and lname != None: \n",
    "        df['FirstName'] = fname\n",
    "        df['LastName'] = lname\n",
    "    \n",
    "    return df.fillna(0)\n",
    "\n",
    "\n",
    "def concatenate_game_log(path): \n",
    "        log_dir = 'data/player_gamelogs'\n",
    "        dfs = []\n",
    "        for df in tqdm(os.listdir(log_dir)): \n",
    "            try: \n",
    "\n",
    "                if df[0] == '.': \n",
    "                    continue\n",
    "                #print(df)\n",
    "\n",
    "                filename = df.split('_')\n",
    "\n",
    "                #print(filename)\n",
    "                firstnm = filename[1]\n",
    "                lastnm = filename[0]\n",
    "\n",
    "                #print (firstnm, lastnm)\n",
    "\n",
    "\n",
    "                cur_df = pd.read_csv(f'{log_dir}/{df}')\n",
    "                dfs.append(process_gamelogs(cur_df, firstnm, lastnm))\n",
    "\n",
    "            except Exception as e: \n",
    "                print(f'error processing {firstnm} {lastnm}') \n",
    "                continue\n",
    "                \n",
    "                \n",
    "        return pd.concat(dfs)"
   ]
  },
  {
   "cell_type": "code",
   "execution_count": 83,
   "id": "9368db1f-420b-4a4f-8b0e-669973aaa178",
   "metadata": {
    "tags": []
   },
   "outputs": [],
   "source": [
    "#def agg_gamelog(\n"
   ]
  },
  {
   "cell_type": "code",
   "execution_count": 78,
   "id": "59702692-d027-4abd-a956-746ab0adf753",
   "metadata": {},
   "outputs": [],
   "source": [
    "df_agg = pd.concat(dfs)"
   ]
  },
  {
   "cell_type": "code",
   "execution_count": 79,
   "id": "43aadf60-2ab1-4b71-9716-7a4a23a8c9e3",
   "metadata": {},
   "outputs": [],
   "source": [
    "import gspread\n",
    "path = 'C:/Users/suher/OneDrive/Documents/credentials/fantsaykingsdraft-65ab67ee19e6.json'\n",
    "gc = gspread.service_account(filename = path)"
   ]
  },
  {
   "cell_type": "code",
   "execution_count": 80,
   "id": "9fde55e8-07cb-453b-81f9-2bf47b7daf48",
   "metadata": {},
   "outputs": [],
   "source": [
    "msheet = gc.open('gamelog_reference_master')"
   ]
  },
  {
   "cell_type": "code",
   "execution_count": null,
   "id": "79d78637-84a8-4f85-a9dc-4f6eb3ac0732",
   "metadata": {},
   "outputs": [
    {
     "data": {
      "text/plain": [
       "<Spreadsheet 'gamelog_reference_master' id:1hIkngbKAuD7MNI-LdhjKPz2_Qd_Iuxf-y1nF3P2-G5E>"
      ]
     },
     "execution_count": 81,
     "metadata": {},
     "output_type": "execute_result"
    }
   ],
   "source": [
    "M"
   ]
  }
 ],
 "metadata": {
  "kernelspec": {
   "display_name": "Python 3 (ipykernel)",
   "language": "python",
   "name": "python3"
  },
  "language_info": {
   "codemirror_mode": {
    "name": "ipython",
    "version": 3
   },
   "file_extension": ".py",
   "mimetype": "text/x-python",
   "name": "python",
   "nbconvert_exporter": "python",
   "pygments_lexer": "ipython3",
   "version": "3.8.13"
  }
 },
 "nbformat": 4,
 "nbformat_minor": 5
}
